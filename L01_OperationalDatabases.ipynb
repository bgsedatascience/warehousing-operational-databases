{
 "cells": [
  {
   "cell_type": "markdown",
   "metadata": {},
   "source": [
    "#### Title: \"Operational Databases\"\n",
    "#### Author: Nandan Rao\n",
    "#### Update Date: September, 2019 (W01/L01)\n",
    "#### Presentation Date: October, 2019 (W01/L01)\n"
   ]
  },
  {
   "cell_type": "markdown",
   "metadata": {},
   "source": [
    "![title](figures/fig_l01-01.png)"
   ]
  },
  {
   "cell_type": "markdown",
   "metadata": {},
   "source": [
    "## Goal\n",
    "\n",
    "Understand the good-old-fashioned relational database (SQL): why it is the way it is.\n"
   ]
  },
  {
   "cell_type": "markdown",
   "metadata": {},
   "source": [
    "## Where data comes from\n",
    "\n",
    "- Humans\n",
    "- Machines\n"
   ]
  },
  {
   "cell_type": "markdown",
   "metadata": {},
   "source": [
    "## Human Data\n",
    "\n",
    "Some data is carefully collected by humans, entered into excel, and provided to you in a CSV so that you can analyze it."
   ]
  },
  {
   "cell_type": "markdown",
   "metadata": {},
   "source": [
    "## Machine Data\n",
    "\n",
    "A lot of data, however, is created by software applications.\n",
    "\n",
    "This data isn't made to be analyzed. It's created by the software application for its own purpose.\n",
    "\n",
    "For software, by software."
   ]
  },
  {
   "cell_type": "markdown",
   "metadata": {},
   "source": [
    "## Applications\n",
    "\n",
    "Software applications really just:\n",
    "\n",
    "1. Record data\n",
    "2. Mutate data\n",
    "3. Display data\n"
   ]
  },
  {
   "cell_type": "markdown",
   "metadata": {},
   "source": [
    "## Application Databases\n",
    "\n",
    "Applications use databases to help them with those tasks.\n",
    "\n",
    "There are many different types of databases they might use to help them. Often, they use many databases at the same time!\n",
    "\n",
    "For now, let's assume we can only pick one database for our application. What qualities would we want from that database?"
   ]
  },
  {
   "cell_type": "markdown",
   "metadata": {},
   "source": [
    "## Qualities one might want in a database\n",
    "\n",
    "- Safe place for data to live\n",
    "- Fast to record, mutate, and get my data\n",
    "- I don't mess anything up when doing any of the above operations\n",
    "- Single source of truth (consistency)\n",
    "\n",
    "These are not easy to obtain at the same time."
   ]
  },
  {
   "cell_type": "markdown",
   "metadata": {},
   "source": [
    "## Safety\n",
    "\n",
    "If I want my data to be safe, I might put it on the most durable thing we have: harddrives.\n",
    "\n",
    "But harddrives are slow.\n",
    "\n",
    "So it's hard to store data on a harddrive and make it fast to work with. This is a fundamental problem with databases."
   ]
  },
  {
   "cell_type": "markdown",
   "metadata": {},
   "source": [
    "## Fast Harddrive Access\n",
    "\n",
    "To make it faster to work with data on a harddrive, I need to minimize how much data I have to read or write to the disk for any given operation.\n",
    "\n",
    "Indices help solve that problem!"
   ]
  },
  {
   "cell_type": "markdown",
   "metadata": {},
   "source": [
    "## Concurrency\n",
    "\n",
    "No matter how fast I manage to get everything working, it won't be fast enough for \"web scale\".\n",
    "\n",
    "Web scale means that many many users might be using my application at once, which means I might have to do many many operations in any given second.\n",
    "\n",
    "Disks are simple too slow to handle all these operations one-at-a-time. Thus, we need concurrency.\n"
   ]
  },
  {
   "cell_type": "markdown",
   "metadata": {},
   "source": [
    "## Dealing with concurrency\n",
    "\n",
    "Performing a lot of operations at once gets tricky: how do we not mess anything up?\n",
    "\n",
    "What if someone is trying to mutate some data and someone else is trying to read it, at the same time?\n",
    "\n",
    "What if two operations come in that can't both be fulfilled? Money transfer in a bank?\n"
   ]
  },
  {
   "cell_type": "markdown",
   "metadata": {},
   "source": [
    "## Dealing with failures\n",
    "\n",
    "Failures happen.\n",
    "\n",
    "What happens if power goes out while I'm in the middle of updating some data, and I leave the data in such an \"invalid\" state. My application will break! Everything will break!\n"
   ]
  },
  {
   "cell_type": "markdown",
   "metadata": {},
   "source": [
    "## ACID\n",
    "\n",
    "- Atomicity. Operations are grouped into atomic \"transactions\" which either all fail or all succeed. \n",
    "- Consistency. Transactions convert data from one valid state to another. \n",
    "- Isolated. No transaction affects any other transaction (it can be concurrent, but must act as though it were serial).\n",
    "- Durable. All transactions, once finished, are safely stored. \n"
   ]
  },
  {
   "cell_type": "markdown",
   "metadata": {},
   "source": [
    "## Why ACID?\n",
    "\n",
    "It should be clear that ACID is helpful in this model of the \"operational database\" - a database that is used by software to record, mutate, and display data to users. \n",
    "\n",
    "This is a paradigm where there are _many_ users at once and generally they record/mutate very few things at a given time. They read few things and what they read must be in perfect shape. Data is sacred and must be kept in perfect shape at all times, so that the software application itself to rely on the data. \n"
   ]
  },
  {
   "cell_type": "markdown",
   "metadata": {},
   "source": [
    "## The Dominance of Relational Systems\n",
    "\n",
    "Relational databases were invented in the early 70's to solve a lot of problems of basic systems including: \n",
    "\n",
    "- A declarative language for accessing data (what evolved into SQL) that abstracts from underlying data structures. \n",
    "- A \"workable abstraction\" of the data into \"normalized tables.\"\n",
    "\n",
    "ACID, too, became a core feature of these relational systems. These systems completed dominated the world of operational databases for many years and are still dominate today!\n"
   ]
  },
  {
   "cell_type": "markdown",
   "metadata": {},
   "source": [
    "## 3NF for Humans\n",
    "\n",
    "Third Normal Form (3NF) is what is commonly referred to as \"normalized\" data. It has some fancy terms if you look it up, but it's actually simple:\n",
    "\n",
    "- Data should be in \"long\" format (each column one type, each row one value).\n",
    "- Each table has a \"primary key\". This is a unique identifier and can be a composite of one or more columns.\n",
    "- All columns in a given table should \"depend\" directly on the primary key. If they don't there is redundancy, and data can be moved to separate tables (\"normalized\").\n"
   ]
  },
  {
   "cell_type": "markdown",
   "metadata": {},
   "source": [
    "#### Notes\n",
    "+ Long format : every record has only one value for a given column"
   ]
  },
  {
   "cell_type": "markdown",
   "metadata": {},
   "source": [
    "## Normalizing Examples\n",
    "\n",
    "Let's look at some examples. \n",
    "\n",
    "#### Notes\n",
    "_e.g._\n",
    "\n",
    "figure 2 goes here\n",
    "\n",
    "\n",
    "Read vs Write tradeoffs : Most traditional databases are WORM (Write Once Read Many)\n",
    "Some databases make different tradeoffs\n",
    "\n",
    "The Normalised form is a specific paradigm\n",
    "\n",
    "Many-to-one & one-to-many require additional tables, to ensure one-to-one long form\n",
    "As it leads to duplication, which makes primary keys non-unique"
   ]
  },
  {
   "cell_type": "markdown",
   "metadata": {},
   "source": [
    "![title](figures/fig_l01-02.png)"
   ]
  },
  {
   "cell_type": "markdown",
   "metadata": {},
   "source": [
    "## Normalized Data\n",
    "\n",
    "Normalized data has two advantages:\n",
    "\n",
    "1. Saves space.\n",
    "2. Makes things easy to update and avoid invalid states, everything exists in only one place!\n",
    "\n",
    "ACID + Normalization -- why they work well together. "
   ]
  },
  {
   "cell_type": "markdown",
   "metadata": {},
   "source": [
    "## SQL\n",
    "\n",
    "SQL as a language has proven very effective, even when the underlying system is not a relational database and not normalized, it provides a single language to do many things we want to do with data!\n",
    "\n",
    "It's important to remember, even though we often refer to these traditional, relational, ACID databases as \"SQL\" databases, that SQL is nothing more than a language that they happen to use!"
   ]
  },
  {
   "cell_type": "markdown",
   "metadata": {},
   "source": [
    "## Other databases!\n",
    "\n",
    "Because relational, ACID databases were dominate for so long, when people started using other databases they become known as \"NoSQL\" databases. This is terrible terminology, but it's important to know. In common parlance, then: \n",
    "\n",
    "- **SQL** refers to the type of database we discussed above (MySQL, Oracle, Postgres, MSSQL Server)\n",
    "- **NoSQL** refers to _everything_ else. \n",
    "These terms are abused to no end. We will try and talk about specific technologies. "
   ]
  },
  {
   "cell_type": "markdown",
   "metadata": {},
   "source": [
    "## Key-Value Stores\n",
    "\n",
    "A KV store is in many ways the simplest form of database. It's basically just a Python dictionary. Retrieving a single value by its key is extremely fast. Everything else is slow. \n",
    "\n",
    "These are useful for many different applications, a cache being one of the most common. \n",
    "\n",
    "Redis is a popular in-memory KV store, and RocksDB is a popular embedded disk-backed KV store."
   ]
  },
  {
   "cell_type": "markdown",
   "metadata": {},
   "source": [
    "## Document Stores\n",
    "\n",
    "Some databases throw away the idea of tables completely and think of data as \"documents.\"\n",
    "\n",
    "Often this means JSON. \n",
    "\n",
    "JSON is very flexible, infinitely nestable, and schemaless, allowing these databases to store things in a format that is often _natural_ for the data and _flexible_. Flexibility, however, is a double-edged sword!\n",
    "\n",
    "MongoDB is a popular document stores used as an operational database. "
   ]
  },
  {
   "cell_type": "markdown",
   "metadata": {},
   "source": [
    "#### Notes:\n",
    "JSON is JavaScript Object Notation"
   ]
  },
  {
   "cell_type": "markdown",
   "metadata": {},
   "source": [
    "\n",
    "## Search\n",
    "\n",
    "Some databases are specialized in searching. They put a lot of CPU, memory, and disk space into creating optimized indices for retrieving data quickly based on complex queries (full text, numeric, geospatial).\n",
    "\n",
    "The natural downside is that can't write data quickly!\n",
    "\n",
    "Elasticsearch is a popular search database (it's also a document store)."
   ]
  },
  {
   "cell_type": "markdown",
   "metadata": {},
   "source": [
    "## Wide Column\n",
    "\n",
    "Some databases still use tables, columns, and rows, but add more flexibility to the table format: allowing, for example, rows to have different columns! Or nested columns, or lists inside columns, etc. \n",
    "\n",
    "Cassandra is a popular example!"
   ]
  },
  {
   "cell_type": "markdown",
   "metadata": {},
   "source": [
    "## Graph\n",
    "\n",
    "Some databases take an entirely different structure. A graph database can be especially interesting to data scientists. This database stores its data entirely based on their relationships with each other: a graph!\n",
    "\n",
    "Neo4j is the most popular example. "
   ]
  },
  {
   "cell_type": "markdown",
   "metadata": {},
   "source": [
    "## Not ACID\n",
    "\n",
    "Some NoSQL databases throw away ACID requirements. Many throw away normalization requirements. By getting rid of these constraints, they easily excel in other areas. For example, they might scale better (distributed and ACID and speed is tough to get all at once). \n",
    "\n",
    "We'll talk about distributed storage a lot more in the following weeks!\n"
   ]
  }
 ],
 "metadata": {
  "kernelspec": {
   "display_name": "Python 3",
   "language": "python",
   "name": "python3"
  },
  "language_info": {
   "codemirror_mode": {
    "name": "ipython",
    "version": 3
   },
   "file_extension": ".py",
   "mimetype": "text/x-python",
   "name": "python",
   "nbconvert_exporter": "python",
   "pygments_lexer": "ipython3",
   "version": "3.7.3"
  }
 },
 "nbformat": 4,
 "nbformat_minor": 2
}
